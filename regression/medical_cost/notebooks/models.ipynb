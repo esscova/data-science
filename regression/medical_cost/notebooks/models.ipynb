{
 "cells": [
  {
   "cell_type": "code",
   "execution_count": 2,
   "id": "3e3e6c7b",
   "metadata": {},
   "outputs": [],
   "source": [
    "# bibliotecas\n",
    "import pandas as pd\n",
    "import numpy as np\n",
    "\n",
    "from sklearn.model_selection import train_test_split, KFold, cross_val_score\n",
    "from sklearn.preprocessing import OneHotEncoder, StandardScaler, PolynomialFeatures\n",
    "from sklearn.metrics import mean_absolute_error, mean_squared_error\n",
    "\n",
    "from sklearn.linear_model import LinearRegression\n",
    "from sklearn.svm import SVR\n",
    "from sklearn.tree import DecisionTreeRegressor\n",
    "from sklearn.ensemble import RandomForestRegressor\n",
    "from xgboost import XGBRegressor\n",
    "import lightgbm as lgb\n",
    "from catboost.core import CatBoostRegressor"
   ]
  },
  {
   "cell_type": "code",
   "execution_count": 3,
   "id": "465e6995",
   "metadata": {},
   "outputs": [
    {
     "data": {
      "text/html": [
       "<div>\n",
       "<style scoped>\n",
       "    .dataframe tbody tr th:only-of-type {\n",
       "        vertical-align: middle;\n",
       "    }\n",
       "\n",
       "    .dataframe tbody tr th {\n",
       "        vertical-align: top;\n",
       "    }\n",
       "\n",
       "    .dataframe thead th {\n",
       "        text-align: right;\n",
       "    }\n",
       "</style>\n",
       "<table border=\"1\" class=\"dataframe\">\n",
       "  <thead>\n",
       "    <tr style=\"text-align: right;\">\n",
       "      <th></th>\n",
       "      <th>age</th>\n",
       "      <th>sex</th>\n",
       "      <th>bmi</th>\n",
       "      <th>children</th>\n",
       "      <th>smoker</th>\n",
       "      <th>region</th>\n",
       "      <th>charges</th>\n",
       "    </tr>\n",
       "  </thead>\n",
       "  <tbody>\n",
       "    <tr>\n",
       "      <th>0</th>\n",
       "      <td>19</td>\n",
       "      <td>0</td>\n",
       "      <td>27.900</td>\n",
       "      <td>0</td>\n",
       "      <td>1</td>\n",
       "      <td>3</td>\n",
       "      <td>16884.92400</td>\n",
       "    </tr>\n",
       "    <tr>\n",
       "      <th>1</th>\n",
       "      <td>18</td>\n",
       "      <td>1</td>\n",
       "      <td>33.770</td>\n",
       "      <td>1</td>\n",
       "      <td>0</td>\n",
       "      <td>2</td>\n",
       "      <td>1725.55230</td>\n",
       "    </tr>\n",
       "    <tr>\n",
       "      <th>2</th>\n",
       "      <td>28</td>\n",
       "      <td>1</td>\n",
       "      <td>33.000</td>\n",
       "      <td>3</td>\n",
       "      <td>0</td>\n",
       "      <td>2</td>\n",
       "      <td>4449.46200</td>\n",
       "    </tr>\n",
       "    <tr>\n",
       "      <th>3</th>\n",
       "      <td>33</td>\n",
       "      <td>1</td>\n",
       "      <td>22.705</td>\n",
       "      <td>0</td>\n",
       "      <td>0</td>\n",
       "      <td>1</td>\n",
       "      <td>21984.47061</td>\n",
       "    </tr>\n",
       "    <tr>\n",
       "      <th>4</th>\n",
       "      <td>32</td>\n",
       "      <td>1</td>\n",
       "      <td>28.880</td>\n",
       "      <td>0</td>\n",
       "      <td>0</td>\n",
       "      <td>1</td>\n",
       "      <td>3866.85520</td>\n",
       "    </tr>\n",
       "  </tbody>\n",
       "</table>\n",
       "</div>"
      ],
      "text/plain": [
       "   age  sex     bmi  children  smoker  region      charges\n",
       "0   19    0  27.900         0       1       3  16884.92400\n",
       "1   18    1  33.770         1       0       2   1725.55230\n",
       "2   28    1  33.000         3       0       2   4449.46200\n",
       "3   33    1  22.705         0       0       1  21984.47061\n",
       "4   32    1  28.880         0       0       1   3866.85520"
      ]
     },
     "execution_count": 3,
     "metadata": {},
     "output_type": "execute_result"
    }
   ],
   "source": [
    "# dados\n",
    "df = pd.read_csv('../data/insurance-encoded.csv', sep=',', encoding='utf-8')\n",
    "df.head()"
   ]
  },
  {
   "cell_type": "code",
   "execution_count": 13,
   "id": "a459ac3f",
   "metadata": {},
   "outputs": [],
   "source": [
    "# variaveis\n",
    "x = df.drop('charges', axis=1)\n",
    "y = df.charges\n",
    "\n",
    "# base treino x teste\n",
    "x_treino, x_teste, y_treino, y_teste = train_test_split(x,y,test_size=0.3, random_state=0)\n",
    "\n",
    "metricas = {}"
   ]
  },
  {
   "cell_type": "code",
   "execution_count": 5,
   "id": "7159400b",
   "metadata": {},
   "outputs": [
    {
     "data": {
      "text/plain": [
       "((936, 6), (402, 6), (936,), (402,))"
      ]
     },
     "execution_count": 5,
     "metadata": {},
     "output_type": "execute_result"
    }
   ],
   "source": [
    "# shapes\n",
    "x_treino.shape, x_teste.shape, y_treino.shape, y_teste.shape\n"
   ]
  },
  {
   "cell_type": "markdown",
   "id": "12dbd220",
   "metadata": {},
   "source": [
    "## linear regression"
   ]
  },
  {
   "cell_type": "code",
   "execution_count": 14,
   "id": "f24defe1",
   "metadata": {},
   "outputs": [
    {
     "name": "stdout",
     "output_type": "stream",
     "text": [
      "MAE: 4013.693\n",
      "MSE: 33311355.282\n",
      "RMSE: 5771.599\n",
      "R2 TREINO: 73.07%\n",
      "R2 TESTE: 79.11%\n",
      "VALIDAÇÃO CRUZADA: 73.60%\n"
     ]
    }
   ],
   "source": [
    "# modelo\n",
    "nome_modelo = 'Linear regression'\n",
    "lr = LinearRegression().fit(x_treino, y_treino)\n",
    "\n",
    "# metricas\n",
    "y_prev = lr.predict(x_teste)\n",
    "mae = mean_absolute_error(y_teste, y_prev)\n",
    "mse = mean_squared_error(y_teste, y_prev)\n",
    "rmse = np.sqrt(mse)\n",
    "r2_treino = lr.score(x_treino, y_treino)\n",
    "r2_teste = lr.score(x_teste, y_teste)\n",
    "cv = cross_val_score(lr, x, y, cv=KFold(n_splits=15,shuffle=True,random_state=5)).mean()\n",
    "\n",
    "# resultados\n",
    "print('MAE: %.3f' % mae)\n",
    "print('MSE: %.3f' % mse)\n",
    "print('RMSE: %.3f' % rmse)\n",
    "print('R2 TREINO: %.2f%%' % (r2_treino*100))\n",
    "print('R2 TESTE: %.2f%%' % (r2_teste*100))\n",
    "print('VALIDAÇÃO CRUZADA: %.2f%%' % (cv*100))\n",
    "\n",
    "# persistencia\n",
    "metricas[nome_modelo] = {\n",
    "    'MAE':mae, 'MSE':mse, 'RMSE':rmse, 'R2_treino':r2_treino, 'R2_teste':r2_teste, 'Cross_val':cv\n",
    "}"
   ]
  },
  {
   "cell_type": "markdown",
   "id": "2561963c",
   "metadata": {},
   "source": [
    "## polinomial"
   ]
  },
  {
   "cell_type": "code",
   "execution_count": 15,
   "id": "2db13985",
   "metadata": {},
   "outputs": [
    {
     "name": "stdout",
     "output_type": "stream",
     "text": [
      "MAE: 2855.525\n",
      "MSE: 20028939.399\n",
      "RMSE: 4475.370\n",
      "R2 TREINO: 83.12%\n",
      "R2 TESTE: 87.44%\n",
      "VALIDAÇÃO CRUZADA: 77.57%\n"
     ]
    }
   ],
   "source": [
    "# pre processamento\n",
    "pf = PolynomialFeatures(degree=2)\n",
    "x_poly = pf.fit_transform(x)\n",
    "x_poly_treino = pf.fit_transform(x_treino)\n",
    "x_poly_teste = pf.fit_transform(x_teste)\n",
    "\n",
    "# modelo\n",
    "plr = LinearRegression().fit(x_poly_treino, y_treino)\n",
    "nome_modelo = 'Polynomial regression'\n",
    "\n",
    "# metricas\n",
    "y_prev = plr.predict(x_poly_teste)\n",
    "mae = mean_absolute_error(y_teste, y_prev)\n",
    "mse = mean_squared_error(y_teste, y_prev)\n",
    "rmse = np.sqrt(mse)\n",
    "r2_treino = plr.score(x_poly_treino, y_treino)\n",
    "r2_teste = plr.score(x_poly_teste, y_teste)\n",
    "cv = cross_val_score(plr, x_poly, y, cv=KFold(n_splits=15,shuffle=True,random_state=5)).mean()\n",
    "\n",
    "# resultados\n",
    "print('MAE: %.3f' % mae)\n",
    "print('MSE: %.3f' % mse)\n",
    "print('RMSE: %.3f' % rmse)\n",
    "print('R2 TREINO: %.2f%%' % (r2_treino*100))\n",
    "print('R2 TESTE: %.2f%%' % (r2_teste*100))\n",
    "print('VALIDAÇÃO CRUZADA: %.2f%%' % (cv*100))\n",
    "\n",
    "# persistencia\n",
    "metricas[nome_modelo] = {\n",
    "    'MAE':mae, 'MSE':mse, 'RMSE':rmse, 'R2_treino':r2_treino, 'R2_teste':r2_teste, 'Cross_val':cv\n",
    "}"
   ]
  },
  {
   "cell_type": "markdown",
   "id": "8c48d025",
   "metadata": {},
   "source": [
    "## SVR"
   ]
  },
  {
   "cell_type": "code",
   "execution_count": 17,
   "id": "0ade106c",
   "metadata": {},
   "outputs": [
    {
     "name": "stdout",
     "output_type": "stream",
     "text": [
      "MAE: 2458.986\n",
      "MSE: 19401893.161\n",
      "RMSE: 4404.758\n",
      "R2 TREINO: 84.26%\n",
      "R2 TESTE: 87.83%\n",
      "VALIDAÇÃO CRUZADA: 83.50%\n"
     ]
    }
   ],
   "source": [
    "# pre processamento\n",
    "scaler = StandardScaler()\n",
    "x_esc = scaler.fit_transform(x)\n",
    "y_esc = scaler.fit_transform(y.values.reshape(-1,1))\n",
    "\n",
    "x_treino_esc, x_teste_esc, y_treino_esc, y_teste_esc = train_test_split(x_esc, y_esc, test_size=0.3, random_state=0)\n",
    "\n",
    "# modelo\n",
    "svr = SVR().fit(x_treino_esc, y_treino_esc.ravel())\n",
    "nome_modelo = 'Support vector machine'\n",
    "y_prev = svr.predict(x_teste_esc)\n",
    "y_teste_inverse = scaler.inverse_transform(y_teste_esc)\n",
    "y_prev_inverse = scaler.inverse_transform(y_prev.reshape(-1, 1))\n",
    "\n",
    "\n",
    "# metricas\n",
    "mae = mean_absolute_error(y_teste_inverse, y_prev_inverse)\n",
    "mse = mean_squared_error(y_teste_inverse, y_prev_inverse)\n",
    "rmse = np.sqrt(mse)\n",
    "r2_treino = svr.score(x_treino_esc, y_treino_esc)\n",
    "r2_teste = svr.score(x_teste_esc, y_teste_esc)\n",
    "cv = cross_val_score(svr, x_esc, y_esc.ravel(), cv=KFold(n_splits=15,shuffle=True,random_state=5)).mean()\n",
    "\n",
    "# resultados\n",
    "print('MAE: %.3f' % mae)\n",
    "print('MSE: %.3f' % mse)\n",
    "print('RMSE: %.3f' % rmse)\n",
    "print('R2 TREINO: %.2f%%' % (r2_treino*100))\n",
    "print('R2 TESTE: %.2f%%' % (r2_teste*100))\n",
    "print('VALIDAÇÃO CRUZADA: %.2f%%' % (cv*100))\n",
    "\n",
    "# persistencia\n",
    "metricas[nome_modelo] = {\n",
    "    'MAE':mae, 'MSE':mse, 'RMSE':rmse, 'R2_treino':r2_treino, 'R2_teste':r2_teste, 'Cross_val':cv\n",
    "}"
   ]
  },
  {
   "cell_type": "markdown",
   "id": "d434de6e",
   "metadata": {},
   "source": [
    "## decision tree"
   ]
  },
  {
   "cell_type": "code",
   "execution_count": 18,
   "id": "a3caf539",
   "metadata": {},
   "outputs": [
    {
     "name": "stdout",
     "output_type": "stream",
     "text": [
      "MAE: 2595.096\n",
      "MSE: 18733722.545\n",
      "RMSE: 4328.247\n",
      "R2 TREINO: 85.30%\n",
      "R2 TESTE: 88.25%\n",
      "VALIDAÇÃO CRUZADA: 84.71%\n"
     ]
    }
   ],
   "source": [
    "# modelo\n",
    "tree = DecisionTreeRegressor(random_state=10, max_depth=4).fit(x_treino, y_treino)\n",
    "nome_modelo = 'Decision tree'\n",
    "\n",
    "# metricas\n",
    "y_prev = tree.predict(x_teste)\n",
    "mae = mean_absolute_error(y_teste, y_prev)\n",
    "mse = mean_squared_error(y_teste, y_prev)\n",
    "rmse = np.sqrt(mse)\n",
    "r2_treino = tree.score(x_treino, y_treino)\n",
    "r2_teste = tree.score(x_teste, y_teste)\n",
    "cv = cross_val_score(tree, x, y, cv=KFold(n_splits=15,shuffle=True,random_state=0)).mean()\n",
    "\n",
    "# resultados\n",
    "print('MAE: %.3f' % mae)\n",
    "print('MSE: %.3f' % mse)\n",
    "print('RMSE: %.3f' % rmse)\n",
    "print('R2 TREINO: %.2f%%' % (r2_treino*100))\n",
    "print('R2 TESTE: %.2f%%' % (r2_teste*100))\n",
    "print('VALIDAÇÃO CRUZADA: %.2f%%' % (cv*100))\n",
    "\n",
    "# persistencia\n",
    "metricas[nome_modelo] = {\n",
    "    'MAE':mae, 'MSE':mse, 'RMSE':rmse, 'R2_treino':r2_treino, 'R2_teste':r2_teste, 'Cross_val':cv\n",
    "}"
   ]
  },
  {
   "cell_type": "markdown",
   "id": "4ccaba0c",
   "metadata": {},
   "source": [
    "## random forest"
   ]
  },
  {
   "cell_type": "code",
   "execution_count": 19,
   "id": "0f759956",
   "metadata": {},
   "outputs": [
    {
     "name": "stdout",
     "output_type": "stream",
     "text": [
      "MAE: 2511.010\n",
      "MSE: 17300470.050\n",
      "RMSE: 4159.383\n",
      "R2 TREINO: 86.39%\n",
      "R2 TESTE: 89.15%\n",
      "VALIDAÇÃO CRUZADA: 85.45%\n"
     ]
    }
   ],
   "source": [
    "# modelo\n",
    "rf = RandomForestRegressor(random_state=10, criterion='squared_error', max_depth=4, n_estimators=20).fit(x_treino, y_treino)\n",
    "nome_modelo = 'Random forest'\n",
    "\n",
    "# metricas\n",
    "y_prev = rf.predict(x_teste)\n",
    "mae = mean_absolute_error(y_teste, y_prev)\n",
    "mse = mean_squared_error(y_teste, y_prev)\n",
    "rmse = np.sqrt(mse)\n",
    "r2_treino = rf.score(x_treino, y_treino)\n",
    "r2_teste = rf.score(x_teste, y_teste)\n",
    "cv = cross_val_score(rf, x, y, cv=KFold(n_splits=15,shuffle=True,random_state=0)).mean()\n",
    "\n",
    "# resultados\n",
    "print('MAE: %.3f' % mae)\n",
    "print('MSE: %.3f' % mse)\n",
    "print('RMSE: %.3f' % rmse)\n",
    "print('R2 TREINO: %.2f%%' % (r2_treino*100))\n",
    "print('R2 TESTE: %.2f%%' % (r2_teste*100))\n",
    "print('VALIDAÇÃO CRUZADA: %.2f%%' % (cv*100))\n",
    "\n",
    "# persistencia\n",
    "metricas[nome_modelo] = {\n",
    "    'MAE':mae, 'MSE':mse, 'RMSE':rmse, 'R2_treino':r2_treino, 'R2_teste':r2_teste, 'Cross_val':cv\n",
    "}"
   ]
  },
  {
   "cell_type": "markdown",
   "id": "eff930fb",
   "metadata": {},
   "source": [
    "## xgboost"
   ]
  },
  {
   "cell_type": "code",
   "execution_count": 20,
   "id": "ae35835b",
   "metadata": {},
   "outputs": [
    {
     "name": "stdout",
     "output_type": "stream",
     "text": [
      "MAE: 2466.208\n",
      "MSE: 16932351.599\n",
      "RMSE: 4114.894\n",
      "R2 TREINO: 86.11%\n",
      "R2 TESTE: 89.38%\n",
      "VALIDAÇÃO CRUZADA: 85.61%\n"
     ]
    }
   ],
   "source": [
    "# modelo\n",
    "xgb = XGBRegressor(random_state=10, n_estimators=20, max_depth=2).fit(x_treino, y_treino)\n",
    "nome_modelo = 'XGBoost'\n",
    "\n",
    "# metricas\n",
    "y_prev = xgb.predict(x_teste)\n",
    "mae = mean_absolute_error(y_teste, y_prev)\n",
    "mse = mean_squared_error(y_teste, y_prev)\n",
    "rmse = np.sqrt(mse)\n",
    "r2_treino = xgb.score(x_treino, y_treino)\n",
    "r2_teste = xgb.score(x_teste, y_teste)\n",
    "cv = cross_val_score(xgb, x, y, cv=KFold(n_splits=15,shuffle=True,random_state=0)).mean()\n",
    "\n",
    "# resultados\n",
    "print('MAE: %.3f' % mae)\n",
    "print('MSE: %.3f' % mse)\n",
    "print('RMSE: %.3f' % rmse)\n",
    "print('R2 TREINO: %.2f%%' % (r2_treino*100))\n",
    "print('R2 TESTE: %.2f%%' % (r2_teste*100))\n",
    "print('VALIDAÇÃO CRUZADA: %.2f%%' % (cv*100))\n",
    "\n",
    "# persistencia\n",
    "metricas[nome_modelo] = {\n",
    "    'MAE':mae, 'MSE':mse, 'RMSE':rmse, 'R2_treino':r2_treino, 'R2_teste':r2_teste, 'Cross_val':cv\n",
    "}"
   ]
  },
  {
   "cell_type": "markdown",
   "id": "a39580a0",
   "metadata": {},
   "source": [
    "## lightgbm"
   ]
  },
  {
   "cell_type": "code",
   "execution_count": 21,
   "id": "6f90f204",
   "metadata": {},
   "outputs": [
    {
     "name": "stdout",
     "output_type": "stream",
     "text": [
      "MAE: 2460.351\n",
      "MSE: 16997371.660\n",
      "RMSE: 4122.787\n",
      "R2 TREINO: 85.98%\n",
      "R2 TESTE: 89.34%\n",
      "VALIDAÇÃO CRUZADA: 85.60%\n"
     ]
    }
   ],
   "source": [
    "# modelo\n",
    "lgbm = lgb.LGBMRegressor(random_state=10,num_leaves=4, max_depth=2, n_estimators=70, verbose=-1).fit(x_treino, y_treino)\n",
    "nome_modelo = 'LightGBM'\n",
    "\n",
    "# metricas\n",
    "y_prev = lgbm.predict(x_teste)\n",
    "mae = mean_absolute_error(y_teste, y_prev)\n",
    "mse = mean_squared_error(y_teste, y_prev)\n",
    "rmse = np.sqrt(mse)\n",
    "r2_treino = lgbm.score(x_treino, y_treino)\n",
    "r2_teste = lgbm.score(x_teste, y_teste)\n",
    "cv = cross_val_score(lgbm, x, y, cv=KFold(n_splits=15,shuffle=True,random_state=0)).mean()\n",
    "\n",
    "# resultados\n",
    "print('MAE: %.3f' % mae)\n",
    "print('MSE: %.3f' % mse)\n",
    "print('RMSE: %.3f' % rmse)\n",
    "print('R2 TREINO: %.2f%%' % (r2_treino*100))\n",
    "print('R2 TESTE: %.2f%%' % (r2_teste*100))\n",
    "print('VALIDAÇÃO CRUZADA: %.2f%%' % (cv*100))\n",
    "\n",
    "# persistencia\n",
    "metricas[nome_modelo] = {\n",
    "    'MAE':mae, 'MSE':mse, 'RMSE':rmse, 'R2_treino':r2_treino, 'R2_teste':r2_teste, 'Cross_val':cv\n",
    "}"
   ]
  },
  {
   "cell_type": "markdown",
   "id": "d8b9d699",
   "metadata": {},
   "source": [
    "## catboost"
   ]
  },
  {
   "cell_type": "code",
   "execution_count": 22,
   "id": "4471da78",
   "metadata": {},
   "outputs": [
    {
     "name": "stdout",
     "output_type": "stream",
     "text": [
      "MAE: 2449.538\n",
      "MSE: 17239741.971\n",
      "RMSE: 4152.077\n",
      "R2 TREINO: 86.96%\n",
      "R2 TESTE: 89.19%\n",
      "VALIDAÇÃO CRUZADA: 85.60%\n"
     ]
    }
   ],
   "source": [
    "# modelo\n",
    "cat = CatBoostRegressor(random_state=10, depth=2, iterations=100, verbose=0).fit(x_treino, y_treino)\n",
    "nome_modelo = 'Catboost'\n",
    "\n",
    "# metricas\n",
    "y_prev = cat.predict(x_teste)\n",
    "mae = mean_absolute_error(y_teste, y_prev)\n",
    "mse = mean_squared_error(y_teste, y_prev)\n",
    "rmse = np.sqrt(mse)\n",
    "r2_treino = cat.score(x_treino, y_treino)\n",
    "r2_teste = cat.score(x_teste, y_teste)\n",
    "cv = cross_val_score(cat, x, y, cv=KFold(n_splits=15,shuffle=True,random_state=0)).mean()\n",
    "\n",
    "# resultados\n",
    "print('MAE: %.3f' % mae)\n",
    "print('MSE: %.3f' % mse)\n",
    "print('RMSE: %.3f' % rmse)\n",
    "print('R2 TREINO: %.2f%%' % (r2_treino*100))\n",
    "print('R2 TESTE: %.2f%%' % (r2_teste*100))\n",
    "print('VALIDAÇÃO CRUZADA: %.2f%%' % (cv*100))\n",
    "\n",
    "# persistencia\n",
    "metricas[nome_modelo] = {\n",
    "    'MAE':mae, 'MSE':mse, 'RMSE':rmse, 'R2_treino':r2_treino, 'R2_teste':r2_teste, 'Cross_val':cv\n",
    "}"
   ]
  },
  {
   "cell_type": "code",
   "execution_count": 35,
   "id": "4486c3ee",
   "metadata": {},
   "outputs": [
    {
     "data": {
      "text/html": [
       "<div>\n",
       "<style scoped>\n",
       "    .dataframe tbody tr th:only-of-type {\n",
       "        vertical-align: middle;\n",
       "    }\n",
       "\n",
       "    .dataframe tbody tr th {\n",
       "        vertical-align: top;\n",
       "    }\n",
       "\n",
       "    .dataframe thead th {\n",
       "        text-align: right;\n",
       "    }\n",
       "</style>\n",
       "<table border=\"1\" class=\"dataframe\">\n",
       "  <thead>\n",
       "    <tr style=\"text-align: right;\">\n",
       "      <th></th>\n",
       "      <th>MAE</th>\n",
       "      <th>MSE</th>\n",
       "      <th>RMSE</th>\n",
       "      <th>R2_treino</th>\n",
       "      <th>R2_teste</th>\n",
       "      <th>Cross_val</th>\n",
       "    </tr>\n",
       "  </thead>\n",
       "  <tbody>\n",
       "    <tr>\n",
       "      <th>XGBoost</th>\n",
       "      <td>2466.207921</td>\n",
       "      <td>1.693235e+07</td>\n",
       "      <td>4114.893875</td>\n",
       "      <td>0.861067</td>\n",
       "      <td>0.893821</td>\n",
       "      <td>0.856133</td>\n",
       "    </tr>\n",
       "    <tr>\n",
       "      <th>LightGBM</th>\n",
       "      <td>2460.350987</td>\n",
       "      <td>1.699737e+07</td>\n",
       "      <td>4122.786880</td>\n",
       "      <td>0.859830</td>\n",
       "      <td>0.893413</td>\n",
       "      <td>0.856026</td>\n",
       "    </tr>\n",
       "    <tr>\n",
       "      <th>Catboost</th>\n",
       "      <td>2449.537856</td>\n",
       "      <td>1.723974e+07</td>\n",
       "      <td>4152.076826</td>\n",
       "      <td>0.869618</td>\n",
       "      <td>0.891893</td>\n",
       "      <td>0.855981</td>\n",
       "    </tr>\n",
       "    <tr>\n",
       "      <th>Random forest</th>\n",
       "      <td>2511.010058</td>\n",
       "      <td>1.730047e+07</td>\n",
       "      <td>4159.383374</td>\n",
       "      <td>0.863906</td>\n",
       "      <td>0.891512</td>\n",
       "      <td>0.854473</td>\n",
       "    </tr>\n",
       "    <tr>\n",
       "      <th>Decision tree</th>\n",
       "      <td>2595.096071</td>\n",
       "      <td>1.873372e+07</td>\n",
       "      <td>4328.247052</td>\n",
       "      <td>0.853007</td>\n",
       "      <td>0.882525</td>\n",
       "      <td>0.847103</td>\n",
       "    </tr>\n",
       "    <tr>\n",
       "      <th>support vector machine</th>\n",
       "      <td>2458.986013</td>\n",
       "      <td>1.940189e+07</td>\n",
       "      <td>4404.758014</td>\n",
       "      <td>0.842574</td>\n",
       "      <td>0.878335</td>\n",
       "      <td>0.834984</td>\n",
       "    </tr>\n",
       "    <tr>\n",
       "      <th>Polynomial regression</th>\n",
       "      <td>2855.524563</td>\n",
       "      <td>2.002894e+07</td>\n",
       "      <td>4475.370309</td>\n",
       "      <td>0.831184</td>\n",
       "      <td>0.874403</td>\n",
       "      <td>0.775705</td>\n",
       "    </tr>\n",
       "    <tr>\n",
       "      <th>Linear regression</th>\n",
       "      <td>4013.692986</td>\n",
       "      <td>3.331136e+07</td>\n",
       "      <td>5771.599023</td>\n",
       "      <td>0.730684</td>\n",
       "      <td>0.791111</td>\n",
       "      <td>0.735995</td>\n",
       "    </tr>\n",
       "  </tbody>\n",
       "</table>\n",
       "</div>"
      ],
      "text/plain": [
       "                                MAE           MSE         RMSE  R2_treino  \\\n",
       "XGBoost                 2466.207921  1.693235e+07  4114.893875   0.861067   \n",
       "LightGBM                2460.350987  1.699737e+07  4122.786880   0.859830   \n",
       "Catboost                2449.537856  1.723974e+07  4152.076826   0.869618   \n",
       "Random forest           2511.010058  1.730047e+07  4159.383374   0.863906   \n",
       "Decision tree           2595.096071  1.873372e+07  4328.247052   0.853007   \n",
       "support vector machine  2458.986013  1.940189e+07  4404.758014   0.842574   \n",
       "Polynomial regression   2855.524563  2.002894e+07  4475.370309   0.831184   \n",
       "Linear regression       4013.692986  3.331136e+07  5771.599023   0.730684   \n",
       "\n",
       "                        R2_teste  Cross_val  \n",
       "XGBoost                 0.893821   0.856133  \n",
       "LightGBM                0.893413   0.856026  \n",
       "Catboost                0.891893   0.855981  \n",
       "Random forest           0.891512   0.854473  \n",
       "Decision tree           0.882525   0.847103  \n",
       "support vector machine  0.878335   0.834984  \n",
       "Polynomial regression   0.874403   0.775705  \n",
       "Linear regression       0.791111   0.735995  "
      ]
     },
     "execution_count": 35,
     "metadata": {},
     "output_type": "execute_result"
    }
   ],
   "source": [
    "pd.DataFrame(metricas).T.sort_values('R2_teste', ascending=False)"
   ]
  }
 ],
 "metadata": {
  "kernelspec": {
   "display_name": "Python 3 (ipykernel)",
   "language": "python",
   "name": "python3"
  },
  "language_info": {
   "codemirror_mode": {
    "name": "ipython",
    "version": 3
   },
   "file_extension": ".py",
   "mimetype": "text/x-python",
   "name": "python",
   "nbconvert_exporter": "python",
   "pygments_lexer": "ipython3",
   "version": "3.11.5"
  }
 },
 "nbformat": 4,
 "nbformat_minor": 5
}
