{
 "cells": [
  {
   "cell_type": "markdown",
   "id": "9de7dafa",
   "metadata": {},
   "source": [
    "# Modelo final"
   ]
  },
  {
   "cell_type": "code",
   "execution_count": 1,
   "id": "b4d622e4",
   "metadata": {},
   "outputs": [],
   "source": [
    "# import libraries\n",
    "import pandas as pd\n",
    "import numpy as np"
   ]
  },
  {
   "cell_type": "markdown",
   "id": "9102fcc2",
   "metadata": {},
   "source": [
    "**load data**"
   ]
  },
  {
   "cell_type": "code",
   "execution_count": 2,
   "id": "a454e29c",
   "metadata": {},
   "outputs": [],
   "source": [
    "results = pd.read_csv('../data/results.csv', sep=',', encoding='utf-8')\n",
    "y = pd.read_csv('../data/target.csv', sep=',', encoding='utf-8', header=None)\n",
    "X = pd.read_csv('../data/preds_scaled.csv', sep=',', encoding='utf-8')"
   ]
  },
  {
   "cell_type": "markdown",
   "id": "0d2cacab",
   "metadata": {},
   "source": [
    "**predictors**"
   ]
  },
  {
   "cell_type": "code",
   "execution_count": 3,
   "id": "19ee5f71",
   "metadata": {},
   "outputs": [
    {
     "data": {
      "text/html": [
       "<div>\n",
       "<style scoped>\n",
       "    .dataframe tbody tr th:only-of-type {\n",
       "        vertical-align: middle;\n",
       "    }\n",
       "\n",
       "    .dataframe tbody tr th {\n",
       "        vertical-align: top;\n",
       "    }\n",
       "\n",
       "    .dataframe thead th {\n",
       "        text-align: right;\n",
       "    }\n",
       "</style>\n",
       "<table border=\"1\" class=\"dataframe\">\n",
       "  <thead>\n",
       "    <tr style=\"text-align: right;\">\n",
       "      <th></th>\n",
       "      <th>0</th>\n",
       "      <th>1</th>\n",
       "      <th>2</th>\n",
       "      <th>3</th>\n",
       "      <th>4</th>\n",
       "      <th>5</th>\n",
       "      <th>6</th>\n",
       "      <th>7</th>\n",
       "      <th>8</th>\n",
       "      <th>9</th>\n",
       "      <th>...</th>\n",
       "      <th>20</th>\n",
       "      <th>21</th>\n",
       "      <th>22</th>\n",
       "      <th>23</th>\n",
       "      <th>24</th>\n",
       "      <th>25</th>\n",
       "      <th>26</th>\n",
       "      <th>27</th>\n",
       "      <th>28</th>\n",
       "      <th>29</th>\n",
       "    </tr>\n",
       "  </thead>\n",
       "  <tbody>\n",
       "    <tr>\n",
       "      <th>0</th>\n",
       "      <td>1.097064</td>\n",
       "      <td>-2.073335</td>\n",
       "      <td>1.269934</td>\n",
       "      <td>0.984375</td>\n",
       "      <td>1.568466</td>\n",
       "      <td>3.283515</td>\n",
       "      <td>2.652874</td>\n",
       "      <td>2.532475</td>\n",
       "      <td>2.217515</td>\n",
       "      <td>2.255747</td>\n",
       "      <td>...</td>\n",
       "      <td>1.886690</td>\n",
       "      <td>-1.359293</td>\n",
       "      <td>2.303601</td>\n",
       "      <td>2.001237</td>\n",
       "      <td>1.307686</td>\n",
       "      <td>2.616665</td>\n",
       "      <td>2.109526</td>\n",
       "      <td>2.296076</td>\n",
       "      <td>2.750622</td>\n",
       "      <td>1.937015</td>\n",
       "    </tr>\n",
       "    <tr>\n",
       "      <th>1</th>\n",
       "      <td>1.829821</td>\n",
       "      <td>-0.353632</td>\n",
       "      <td>1.685955</td>\n",
       "      <td>1.908708</td>\n",
       "      <td>-0.826962</td>\n",
       "      <td>-0.487072</td>\n",
       "      <td>-0.023846</td>\n",
       "      <td>0.548144</td>\n",
       "      <td>0.001392</td>\n",
       "      <td>-0.868652</td>\n",
       "      <td>...</td>\n",
       "      <td>1.805927</td>\n",
       "      <td>-0.369203</td>\n",
       "      <td>1.535126</td>\n",
       "      <td>1.890489</td>\n",
       "      <td>-0.375612</td>\n",
       "      <td>-0.430444</td>\n",
       "      <td>-0.146749</td>\n",
       "      <td>1.087084</td>\n",
       "      <td>-0.243890</td>\n",
       "      <td>0.281190</td>\n",
       "    </tr>\n",
       "    <tr>\n",
       "      <th>2</th>\n",
       "      <td>1.579888</td>\n",
       "      <td>0.456187</td>\n",
       "      <td>1.566503</td>\n",
       "      <td>1.558884</td>\n",
       "      <td>0.942210</td>\n",
       "      <td>1.052926</td>\n",
       "      <td>1.363478</td>\n",
       "      <td>2.037231</td>\n",
       "      <td>0.939685</td>\n",
       "      <td>-0.398008</td>\n",
       "      <td>...</td>\n",
       "      <td>1.511870</td>\n",
       "      <td>-0.023974</td>\n",
       "      <td>1.347475</td>\n",
       "      <td>1.456285</td>\n",
       "      <td>0.527407</td>\n",
       "      <td>1.082932</td>\n",
       "      <td>0.854974</td>\n",
       "      <td>1.955000</td>\n",
       "      <td>1.152255</td>\n",
       "      <td>0.201391</td>\n",
       "    </tr>\n",
       "    <tr>\n",
       "      <th>3</th>\n",
       "      <td>-0.768909</td>\n",
       "      <td>0.253732</td>\n",
       "      <td>-0.592687</td>\n",
       "      <td>-0.764464</td>\n",
       "      <td>3.283553</td>\n",
       "      <td>3.402909</td>\n",
       "      <td>1.915897</td>\n",
       "      <td>1.451707</td>\n",
       "      <td>2.867383</td>\n",
       "      <td>4.910919</td>\n",
       "      <td>...</td>\n",
       "      <td>-0.281464</td>\n",
       "      <td>0.133984</td>\n",
       "      <td>-0.249939</td>\n",
       "      <td>-0.550021</td>\n",
       "      <td>3.394275</td>\n",
       "      <td>3.893397</td>\n",
       "      <td>1.989588</td>\n",
       "      <td>2.175786</td>\n",
       "      <td>6.046041</td>\n",
       "      <td>4.935010</td>\n",
       "    </tr>\n",
       "    <tr>\n",
       "      <th>4</th>\n",
       "      <td>1.750297</td>\n",
       "      <td>-1.151816</td>\n",
       "      <td>1.776573</td>\n",
       "      <td>1.826229</td>\n",
       "      <td>0.280372</td>\n",
       "      <td>0.539340</td>\n",
       "      <td>1.371011</td>\n",
       "      <td>1.428493</td>\n",
       "      <td>-0.009560</td>\n",
       "      <td>-0.562450</td>\n",
       "      <td>...</td>\n",
       "      <td>1.298575</td>\n",
       "      <td>-1.466770</td>\n",
       "      <td>1.338539</td>\n",
       "      <td>1.220724</td>\n",
       "      <td>0.220556</td>\n",
       "      <td>-0.313395</td>\n",
       "      <td>0.613179</td>\n",
       "      <td>0.729259</td>\n",
       "      <td>-0.868353</td>\n",
       "      <td>-0.397100</td>\n",
       "    </tr>\n",
       "    <tr>\n",
       "      <th>...</th>\n",
       "      <td>...</td>\n",
       "      <td>...</td>\n",
       "      <td>...</td>\n",
       "      <td>...</td>\n",
       "      <td>...</td>\n",
       "      <td>...</td>\n",
       "      <td>...</td>\n",
       "      <td>...</td>\n",
       "      <td>...</td>\n",
       "      <td>...</td>\n",
       "      <td>...</td>\n",
       "      <td>...</td>\n",
       "      <td>...</td>\n",
       "      <td>...</td>\n",
       "      <td>...</td>\n",
       "      <td>...</td>\n",
       "      <td>...</td>\n",
       "      <td>...</td>\n",
       "      <td>...</td>\n",
       "      <td>...</td>\n",
       "      <td>...</td>\n",
       "    </tr>\n",
       "    <tr>\n",
       "      <th>564</th>\n",
       "      <td>2.110995</td>\n",
       "      <td>0.721473</td>\n",
       "      <td>2.060786</td>\n",
       "      <td>2.343856</td>\n",
       "      <td>1.041842</td>\n",
       "      <td>0.219060</td>\n",
       "      <td>1.947285</td>\n",
       "      <td>2.320965</td>\n",
       "      <td>-0.312589</td>\n",
       "      <td>-0.931027</td>\n",
       "      <td>...</td>\n",
       "      <td>1.901185</td>\n",
       "      <td>0.117700</td>\n",
       "      <td>1.752563</td>\n",
       "      <td>2.015301</td>\n",
       "      <td>0.378365</td>\n",
       "      <td>-0.273318</td>\n",
       "      <td>0.664512</td>\n",
       "      <td>1.629151</td>\n",
       "      <td>-1.360158</td>\n",
       "      <td>-0.709091</td>\n",
       "    </tr>\n",
       "    <tr>\n",
       "      <th>565</th>\n",
       "      <td>1.704854</td>\n",
       "      <td>2.085134</td>\n",
       "      <td>1.615931</td>\n",
       "      <td>1.723842</td>\n",
       "      <td>0.102458</td>\n",
       "      <td>-0.017833</td>\n",
       "      <td>0.693043</td>\n",
       "      <td>1.263669</td>\n",
       "      <td>-0.217664</td>\n",
       "      <td>-1.058611</td>\n",
       "      <td>...</td>\n",
       "      <td>1.536720</td>\n",
       "      <td>2.047399</td>\n",
       "      <td>1.421940</td>\n",
       "      <td>1.494959</td>\n",
       "      <td>-0.691230</td>\n",
       "      <td>-0.394820</td>\n",
       "      <td>0.236573</td>\n",
       "      <td>0.733827</td>\n",
       "      <td>-0.531855</td>\n",
       "      <td>-0.973978</td>\n",
       "    </tr>\n",
       "    <tr>\n",
       "      <th>566</th>\n",
       "      <td>0.702284</td>\n",
       "      <td>2.045574</td>\n",
       "      <td>0.672676</td>\n",
       "      <td>0.577953</td>\n",
       "      <td>-0.840484</td>\n",
       "      <td>-0.038680</td>\n",
       "      <td>0.046588</td>\n",
       "      <td>0.105777</td>\n",
       "      <td>-0.809117</td>\n",
       "      <td>-0.895587</td>\n",
       "      <td>...</td>\n",
       "      <td>0.561361</td>\n",
       "      <td>1.374854</td>\n",
       "      <td>0.579001</td>\n",
       "      <td>0.427906</td>\n",
       "      <td>-0.809587</td>\n",
       "      <td>0.350735</td>\n",
       "      <td>0.326767</td>\n",
       "      <td>0.414069</td>\n",
       "      <td>-1.104549</td>\n",
       "      <td>-0.318409</td>\n",
       "    </tr>\n",
       "    <tr>\n",
       "      <th>567</th>\n",
       "      <td>1.838341</td>\n",
       "      <td>2.336457</td>\n",
       "      <td>1.982524</td>\n",
       "      <td>1.735218</td>\n",
       "      <td>1.525767</td>\n",
       "      <td>3.272144</td>\n",
       "      <td>3.296944</td>\n",
       "      <td>2.658866</td>\n",
       "      <td>2.137194</td>\n",
       "      <td>1.043695</td>\n",
       "      <td>...</td>\n",
       "      <td>1.961239</td>\n",
       "      <td>2.237926</td>\n",
       "      <td>2.303601</td>\n",
       "      <td>1.653171</td>\n",
       "      <td>1.430427</td>\n",
       "      <td>3.904848</td>\n",
       "      <td>3.197605</td>\n",
       "      <td>2.289985</td>\n",
       "      <td>1.919083</td>\n",
       "      <td>2.219635</td>\n",
       "    </tr>\n",
       "    <tr>\n",
       "      <th>568</th>\n",
       "      <td>-1.808401</td>\n",
       "      <td>1.221792</td>\n",
       "      <td>-1.814389</td>\n",
       "      <td>-1.347789</td>\n",
       "      <td>-3.112085</td>\n",
       "      <td>-1.150752</td>\n",
       "      <td>-1.114873</td>\n",
       "      <td>-1.261820</td>\n",
       "      <td>-0.820070</td>\n",
       "      <td>-0.561032</td>\n",
       "      <td>...</td>\n",
       "      <td>-1.410893</td>\n",
       "      <td>0.764190</td>\n",
       "      <td>-1.432735</td>\n",
       "      <td>-1.075813</td>\n",
       "      <td>-1.859019</td>\n",
       "      <td>-1.207552</td>\n",
       "      <td>-1.305831</td>\n",
       "      <td>-1.745063</td>\n",
       "      <td>-0.048138</td>\n",
       "      <td>-0.751207</td>\n",
       "    </tr>\n",
       "  </tbody>\n",
       "</table>\n",
       "<p>569 rows × 30 columns</p>\n",
       "</div>"
      ],
      "text/plain": [
       "            0         1         2         3         4         5         6  \\\n",
       "0    1.097064 -2.073335  1.269934  0.984375  1.568466  3.283515  2.652874   \n",
       "1    1.829821 -0.353632  1.685955  1.908708 -0.826962 -0.487072 -0.023846   \n",
       "2    1.579888  0.456187  1.566503  1.558884  0.942210  1.052926  1.363478   \n",
       "3   -0.768909  0.253732 -0.592687 -0.764464  3.283553  3.402909  1.915897   \n",
       "4    1.750297 -1.151816  1.776573  1.826229  0.280372  0.539340  1.371011   \n",
       "..        ...       ...       ...       ...       ...       ...       ...   \n",
       "564  2.110995  0.721473  2.060786  2.343856  1.041842  0.219060  1.947285   \n",
       "565  1.704854  2.085134  1.615931  1.723842  0.102458 -0.017833  0.693043   \n",
       "566  0.702284  2.045574  0.672676  0.577953 -0.840484 -0.038680  0.046588   \n",
       "567  1.838341  2.336457  1.982524  1.735218  1.525767  3.272144  3.296944   \n",
       "568 -1.808401  1.221792 -1.814389 -1.347789 -3.112085 -1.150752 -1.114873   \n",
       "\n",
       "            7         8         9  ...        20        21        22  \\\n",
       "0    2.532475  2.217515  2.255747  ...  1.886690 -1.359293  2.303601   \n",
       "1    0.548144  0.001392 -0.868652  ...  1.805927 -0.369203  1.535126   \n",
       "2    2.037231  0.939685 -0.398008  ...  1.511870 -0.023974  1.347475   \n",
       "3    1.451707  2.867383  4.910919  ... -0.281464  0.133984 -0.249939   \n",
       "4    1.428493 -0.009560 -0.562450  ...  1.298575 -1.466770  1.338539   \n",
       "..        ...       ...       ...  ...       ...       ...       ...   \n",
       "564  2.320965 -0.312589 -0.931027  ...  1.901185  0.117700  1.752563   \n",
       "565  1.263669 -0.217664 -1.058611  ...  1.536720  2.047399  1.421940   \n",
       "566  0.105777 -0.809117 -0.895587  ...  0.561361  1.374854  0.579001   \n",
       "567  2.658866  2.137194  1.043695  ...  1.961239  2.237926  2.303601   \n",
       "568 -1.261820 -0.820070 -0.561032  ... -1.410893  0.764190 -1.432735   \n",
       "\n",
       "           23        24        25        26        27        28        29  \n",
       "0    2.001237  1.307686  2.616665  2.109526  2.296076  2.750622  1.937015  \n",
       "1    1.890489 -0.375612 -0.430444 -0.146749  1.087084 -0.243890  0.281190  \n",
       "2    1.456285  0.527407  1.082932  0.854974  1.955000  1.152255  0.201391  \n",
       "3   -0.550021  3.394275  3.893397  1.989588  2.175786  6.046041  4.935010  \n",
       "4    1.220724  0.220556 -0.313395  0.613179  0.729259 -0.868353 -0.397100  \n",
       "..        ...       ...       ...       ...       ...       ...       ...  \n",
       "564  2.015301  0.378365 -0.273318  0.664512  1.629151 -1.360158 -0.709091  \n",
       "565  1.494959 -0.691230 -0.394820  0.236573  0.733827 -0.531855 -0.973978  \n",
       "566  0.427906 -0.809587  0.350735  0.326767  0.414069 -1.104549 -0.318409  \n",
       "567  1.653171  1.430427  3.904848  3.197605  2.289985  1.919083  2.219635  \n",
       "568 -1.075813 -1.859019 -1.207552 -1.305831 -1.745063 -0.048138 -0.751207  \n",
       "\n",
       "[569 rows x 30 columns]"
      ]
     },
     "execution_count": 3,
     "metadata": {},
     "output_type": "execute_result"
    }
   ],
   "source": [
    "X"
   ]
  },
  {
   "cell_type": "code",
   "execution_count": 4,
   "id": "bad9ec5f",
   "metadata": {},
   "outputs": [
    {
     "data": {
      "text/plain": [
       "(569, 30)"
      ]
     },
     "execution_count": 4,
     "metadata": {},
     "output_type": "execute_result"
    }
   ],
   "source": [
    "X.shape"
   ]
  },
  {
   "cell_type": "markdown",
   "id": "a3d3c5f8",
   "metadata": {},
   "source": [
    "**target**"
   ]
  },
  {
   "cell_type": "code",
   "execution_count": 5,
   "id": "9c63b81d",
   "metadata": {},
   "outputs": [
    {
     "data": {
      "text/html": [
       "<div>\n",
       "<style scoped>\n",
       "    .dataframe tbody tr th:only-of-type {\n",
       "        vertical-align: middle;\n",
       "    }\n",
       "\n",
       "    .dataframe tbody tr th {\n",
       "        vertical-align: top;\n",
       "    }\n",
       "\n",
       "    .dataframe thead th {\n",
       "        text-align: right;\n",
       "    }\n",
       "</style>\n",
       "<table border=\"1\" class=\"dataframe\">\n",
       "  <thead>\n",
       "    <tr style=\"text-align: right;\">\n",
       "      <th></th>\n",
       "      <th>0</th>\n",
       "    </tr>\n",
       "  </thead>\n",
       "  <tbody>\n",
       "    <tr>\n",
       "      <th>0</th>\n",
       "      <td>1</td>\n",
       "    </tr>\n",
       "    <tr>\n",
       "      <th>1</th>\n",
       "      <td>1</td>\n",
       "    </tr>\n",
       "    <tr>\n",
       "      <th>2</th>\n",
       "      <td>1</td>\n",
       "    </tr>\n",
       "    <tr>\n",
       "      <th>3</th>\n",
       "      <td>1</td>\n",
       "    </tr>\n",
       "    <tr>\n",
       "      <th>4</th>\n",
       "      <td>1</td>\n",
       "    </tr>\n",
       "    <tr>\n",
       "      <th>...</th>\n",
       "      <td>...</td>\n",
       "    </tr>\n",
       "    <tr>\n",
       "      <th>564</th>\n",
       "      <td>1</td>\n",
       "    </tr>\n",
       "    <tr>\n",
       "      <th>565</th>\n",
       "      <td>1</td>\n",
       "    </tr>\n",
       "    <tr>\n",
       "      <th>566</th>\n",
       "      <td>1</td>\n",
       "    </tr>\n",
       "    <tr>\n",
       "      <th>567</th>\n",
       "      <td>1</td>\n",
       "    </tr>\n",
       "    <tr>\n",
       "      <th>568</th>\n",
       "      <td>0</td>\n",
       "    </tr>\n",
       "  </tbody>\n",
       "</table>\n",
       "<p>569 rows × 1 columns</p>\n",
       "</div>"
      ],
      "text/plain": [
       "     0\n",
       "0    1\n",
       "1    1\n",
       "2    1\n",
       "3    1\n",
       "4    1\n",
       "..  ..\n",
       "564  1\n",
       "565  1\n",
       "566  1\n",
       "567  1\n",
       "568  0\n",
       "\n",
       "[569 rows x 1 columns]"
      ]
     },
     "execution_count": 5,
     "metadata": {},
     "output_type": "execute_result"
    }
   ],
   "source": [
    "y"
   ]
  },
  {
   "cell_type": "code",
   "execution_count": 6,
   "id": "1a1fdd34",
   "metadata": {},
   "outputs": [
    {
     "data": {
      "text/plain": [
       "array([1, 1, 1, 1, 1, 1, 1, 1, 1, 1, 1, 1, 1, 1, 1, 1, 1, 1, 1, 0, 0, 0,\n",
       "       1, 1, 1, 1, 1, 1, 1, 1, 1, 1, 1, 1, 1, 1, 1, 0, 1, 1, 1, 1, 1, 1,\n",
       "       1, 1, 0, 1, 0, 0, 0, 0, 0, 1, 1, 0, 1, 1, 0, 0, 0, 0, 1, 0, 1, 1,\n",
       "       0, 0, 0, 0, 1, 0, 1, 1, 0, 1, 0, 1, 1, 0, 0, 0, 1, 1, 0, 1, 1, 1,\n",
       "       0, 0, 0, 1, 0, 0, 1, 1, 0, 0, 0, 1, 1, 0, 0, 0, 0, 1, 0, 0, 1, 0,\n",
       "       0, 0, 0, 0, 0, 0, 0, 1, 1, 1, 0, 1, 1, 0, 0, 0, 1, 1, 0, 1, 0, 1,\n",
       "       1, 0, 1, 1, 0, 0, 1, 0, 0, 1, 0, 0, 0, 0, 1, 0, 0, 0, 0, 0, 0, 0,\n",
       "       0, 0, 1, 0, 0, 0, 0, 1, 1, 0, 1, 0, 0, 1, 1, 0, 0, 1, 1, 0, 0, 0,\n",
       "       0, 1, 0, 0, 1, 1, 1, 0, 1, 0, 1, 0, 0, 0, 1, 0, 0, 1, 1, 0, 1, 1,\n",
       "       1, 1, 0, 1, 1, 1, 0, 1, 0, 1, 0, 0, 1, 0, 1, 1, 1, 1, 0, 0, 1, 1,\n",
       "       0, 0, 0, 1, 0, 0, 0, 0, 0, 1, 1, 0, 0, 1, 0, 0, 1, 1, 0, 1, 0, 0,\n",
       "       0, 0, 1, 0, 0, 0, 0, 0, 1, 0, 1, 1, 1, 1, 1, 1, 1, 1, 1, 1, 1, 1,\n",
       "       1, 1, 0, 0, 0, 0, 0, 0, 1, 0, 1, 0, 0, 1, 0, 0, 1, 0, 1, 1, 0, 0,\n",
       "       0, 0, 0, 0, 0, 0, 0, 0, 0, 0, 0, 1, 0, 0, 1, 0, 1, 0, 0, 0, 0, 0,\n",
       "       0, 0, 0, 0, 0, 0, 0, 0, 0, 1, 0, 0, 0, 1, 0, 1, 0, 0, 0, 0, 1, 1,\n",
       "       1, 0, 0, 0, 0, 1, 0, 1, 0, 1, 0, 0, 0, 1, 0, 0, 0, 0, 0, 0, 0, 1,\n",
       "       1, 1, 0, 0, 0, 0, 0, 0, 0, 0, 0, 0, 0, 1, 1, 0, 1, 1, 1, 0, 1, 1,\n",
       "       0, 0, 0, 0, 0, 1, 0, 0, 0, 0, 0, 1, 0, 0, 0, 1, 0, 0, 1, 1, 0, 0,\n",
       "       0, 0, 0, 0, 1, 0, 0, 0, 0, 0, 0, 0, 1, 0, 0, 0, 0, 0, 1, 0, 0, 1,\n",
       "       0, 0, 0, 0, 0, 0, 0, 0, 0, 0, 0, 0, 1, 0, 1, 1, 0, 1, 0, 0, 0, 0,\n",
       "       0, 1, 0, 0, 1, 0, 1, 0, 0, 1, 0, 1, 0, 0, 0, 0, 0, 0, 0, 0, 1, 1,\n",
       "       0, 0, 0, 0, 0, 0, 1, 0, 0, 0, 0, 0, 0, 0, 0, 0, 0, 1, 0, 0, 0, 0,\n",
       "       0, 0, 0, 1, 0, 1, 0, 0, 1, 0, 0, 0, 0, 0, 1, 1, 0, 1, 0, 1, 0, 0,\n",
       "       0, 0, 0, 1, 0, 0, 1, 0, 1, 0, 1, 1, 0, 0, 0, 1, 0, 0, 0, 0, 0, 0,\n",
       "       0, 0, 0, 0, 0, 1, 0, 1, 1, 0, 0, 0, 0, 0, 0, 0, 0, 0, 0, 0, 0, 0,\n",
       "       0, 0, 0, 0, 0, 0, 0, 0, 0, 0, 0, 0, 1, 1, 1, 1, 1, 1, 0])"
      ]
     },
     "execution_count": 6,
     "metadata": {},
     "output_type": "execute_result"
    }
   ],
   "source": [
    "y.values.flatten()"
   ]
  },
  {
   "cell_type": "code",
   "execution_count": 7,
   "id": "d34a0ba9",
   "metadata": {},
   "outputs": [],
   "source": [
    "X = X.values\n",
    "y = y.values.flatten()"
   ]
  },
  {
   "cell_type": "markdown",
   "id": "f39894e4",
   "metadata": {},
   "source": [
    "## **results**"
   ]
  },
  {
   "cell_type": "code",
   "execution_count": 8,
   "id": "a59ddf27",
   "metadata": {},
   "outputs": [
    {
     "data": {
      "text/html": [
       "<div>\n",
       "<style scoped>\n",
       "    .dataframe tbody tr th:only-of-type {\n",
       "        vertical-align: middle;\n",
       "    }\n",
       "\n",
       "    .dataframe tbody tr th {\n",
       "        vertical-align: top;\n",
       "    }\n",
       "\n",
       "    .dataframe thead th {\n",
       "        text-align: right;\n",
       "    }\n",
       "</style>\n",
       "<table border=\"1\" class=\"dataframe\">\n",
       "  <thead>\n",
       "    <tr style=\"text-align: right;\">\n",
       "      <th></th>\n",
       "      <th>previsores</th>\n",
       "      <th>acuracia_teste</th>\n",
       "      <th>acuracia_treino</th>\n",
       "      <th>acuracia_cv</th>\n",
       "      <th>precision</th>\n",
       "      <th>recall</th>\n",
       "      <th>f1_score</th>\n",
       "      <th>matriz_confusao</th>\n",
       "      <th>dif_acuracia_treino_teste</th>\n",
       "    </tr>\n",
       "    <tr>\n",
       "      <th>modelo</th>\n",
       "      <th></th>\n",
       "      <th></th>\n",
       "      <th></th>\n",
       "      <th></th>\n",
       "      <th></th>\n",
       "      <th></th>\n",
       "      <th></th>\n",
       "      <th></th>\n",
       "      <th></th>\n",
       "    </tr>\n",
       "  </thead>\n",
       "  <tbody>\n",
       "    <tr>\n",
       "      <th>Naive Bayes</th>\n",
       "      <td>original</td>\n",
       "      <td>92.40</td>\n",
       "      <td>94.22</td>\n",
       "      <td>93.83</td>\n",
       "      <td>92.43</td>\n",
       "      <td>92.40</td>\n",
       "      <td>92.41</td>\n",
       "      <td>[[101, 7], [6, 57]]</td>\n",
       "      <td>1.82</td>\n",
       "    </tr>\n",
       "    <tr>\n",
       "      <th>Naive Bayes</th>\n",
       "      <td>padronizado</td>\n",
       "      <td>91.23</td>\n",
       "      <td>94.22</td>\n",
       "      <td>93.13</td>\n",
       "      <td>91.37</td>\n",
       "      <td>91.23</td>\n",
       "      <td>91.27</td>\n",
       "      <td>[[99, 9], [6, 57]]</td>\n",
       "      <td>2.99</td>\n",
       "    </tr>\n",
       "    <tr>\n",
       "      <th>Support Vector Machine</th>\n",
       "      <td>original</td>\n",
       "      <td>92.40</td>\n",
       "      <td>90.45</td>\n",
       "      <td>91.58</td>\n",
       "      <td>92.92</td>\n",
       "      <td>92.40</td>\n",
       "      <td>92.22</td>\n",
       "      <td>[[107, 1], [12, 51]]</td>\n",
       "      <td>-1.95</td>\n",
       "    </tr>\n",
       "    <tr>\n",
       "      <th>Support Vector Machine</th>\n",
       "      <td>padronizado</td>\n",
       "      <td>97.66</td>\n",
       "      <td>98.24</td>\n",
       "      <td>97.89</td>\n",
       "      <td>97.67</td>\n",
       "      <td>97.66</td>\n",
       "      <td>97.65</td>\n",
       "      <td>[[107, 1], [3, 60]]</td>\n",
       "      <td>0.58</td>\n",
       "    </tr>\n",
       "    <tr>\n",
       "      <th>Logistic Regression</th>\n",
       "      <td>original</td>\n",
       "      <td>95.91</td>\n",
       "      <td>94.22</td>\n",
       "      <td>93.15</td>\n",
       "      <td>96.01</td>\n",
       "      <td>95.91</td>\n",
       "      <td>95.93</td>\n",
       "      <td>[[103, 5], [2, 61]]</td>\n",
       "      <td>-1.69</td>\n",
       "    </tr>\n",
       "    <tr>\n",
       "      <th>Logistic Regression</th>\n",
       "      <td>padronizado</td>\n",
       "      <td>97.66</td>\n",
       "      <td>98.99</td>\n",
       "      <td>97.89</td>\n",
       "      <td>97.67</td>\n",
       "      <td>97.66</td>\n",
       "      <td>97.65</td>\n",
       "      <td>[[107, 1], [3, 60]]</td>\n",
       "      <td>1.33</td>\n",
       "    </tr>\n",
       "    <tr>\n",
       "      <th>KNN</th>\n",
       "      <td>original</td>\n",
       "      <td>94.74</td>\n",
       "      <td>93.97</td>\n",
       "      <td>92.98</td>\n",
       "      <td>94.76</td>\n",
       "      <td>94.74</td>\n",
       "      <td>94.75</td>\n",
       "      <td>[[103, 5], [4, 59]]</td>\n",
       "      <td>-0.77</td>\n",
       "    </tr>\n",
       "    <tr>\n",
       "      <th>KNN</th>\n",
       "      <td>padronizado</td>\n",
       "      <td>95.91</td>\n",
       "      <td>96.98</td>\n",
       "      <td>97.01</td>\n",
       "      <td>96.01</td>\n",
       "      <td>95.91</td>\n",
       "      <td>95.87</td>\n",
       "      <td>[[107, 1], [6, 57]]</td>\n",
       "      <td>1.07</td>\n",
       "    </tr>\n",
       "    <tr>\n",
       "      <th>Árvores de decisão</th>\n",
       "      <td>original</td>\n",
       "      <td>91.23</td>\n",
       "      <td>100.00</td>\n",
       "      <td>92.08</td>\n",
       "      <td>91.71</td>\n",
       "      <td>91.23</td>\n",
       "      <td>91.31</td>\n",
       "      <td>[[97, 11], [4, 59]]</td>\n",
       "      <td>8.77</td>\n",
       "    </tr>\n",
       "    <tr>\n",
       "      <th>Árvores de decisão</th>\n",
       "      <td>padronizado</td>\n",
       "      <td>91.23</td>\n",
       "      <td>100.00</td>\n",
       "      <td>92.08</td>\n",
       "      <td>91.71</td>\n",
       "      <td>91.23</td>\n",
       "      <td>91.31</td>\n",
       "      <td>[[97, 11], [4, 59]]</td>\n",
       "      <td>8.77</td>\n",
       "    </tr>\n",
       "    <tr>\n",
       "      <th>Random Forest</th>\n",
       "      <td>original</td>\n",
       "      <td>95.91</td>\n",
       "      <td>100.00</td>\n",
       "      <td>96.31</td>\n",
       "      <td>95.93</td>\n",
       "      <td>95.91</td>\n",
       "      <td>95.91</td>\n",
       "      <td>[[104, 4], [3, 60]]</td>\n",
       "      <td>4.09</td>\n",
       "    </tr>\n",
       "    <tr>\n",
       "      <th>Random Forest</th>\n",
       "      <td>padronizado</td>\n",
       "      <td>95.91</td>\n",
       "      <td>100.00</td>\n",
       "      <td>96.31</td>\n",
       "      <td>95.93</td>\n",
       "      <td>95.91</td>\n",
       "      <td>95.91</td>\n",
       "      <td>[[104, 4], [3, 60]]</td>\n",
       "      <td>4.09</td>\n",
       "    </tr>\n",
       "    <tr>\n",
       "      <th>Gradient Boosting</th>\n",
       "      <td>original</td>\n",
       "      <td>97.66</td>\n",
       "      <td>100.00</td>\n",
       "      <td>96.66</td>\n",
       "      <td>97.66</td>\n",
       "      <td>97.66</td>\n",
       "      <td>97.66</td>\n",
       "      <td>[[106, 2], [2, 61]]</td>\n",
       "      <td>2.34</td>\n",
       "    </tr>\n",
       "    <tr>\n",
       "      <th>Gradient Boosting</th>\n",
       "      <td>padronizado</td>\n",
       "      <td>97.66</td>\n",
       "      <td>100.00</td>\n",
       "      <td>96.66</td>\n",
       "      <td>97.66</td>\n",
       "      <td>97.66</td>\n",
       "      <td>97.66</td>\n",
       "      <td>[[106, 2], [2, 61]]</td>\n",
       "      <td>2.34</td>\n",
       "    </tr>\n",
       "    <tr>\n",
       "      <th>XGBoosting</th>\n",
       "      <td>original</td>\n",
       "      <td>97.66</td>\n",
       "      <td>100.00</td>\n",
       "      <td>97.19</td>\n",
       "      <td>97.66</td>\n",
       "      <td>97.66</td>\n",
       "      <td>97.66</td>\n",
       "      <td>[[106, 2], [2, 61]]</td>\n",
       "      <td>2.34</td>\n",
       "    </tr>\n",
       "    <tr>\n",
       "      <th>XGBoosting</th>\n",
       "      <td>padronizado</td>\n",
       "      <td>97.66</td>\n",
       "      <td>100.00</td>\n",
       "      <td>97.19</td>\n",
       "      <td>97.66</td>\n",
       "      <td>97.66</td>\n",
       "      <td>97.66</td>\n",
       "      <td>[[106, 2], [2, 61]]</td>\n",
       "      <td>2.34</td>\n",
       "    </tr>\n",
       "  </tbody>\n",
       "</table>\n",
       "</div>"
      ],
      "text/plain": [
       "                         previsores  acuracia_teste  acuracia_treino  \\\n",
       "modelo                                                                 \n",
       "Naive Bayes                original           92.40            94.22   \n",
       "Naive Bayes             padronizado           91.23            94.22   \n",
       "Support Vector Machine     original           92.40            90.45   \n",
       "Support Vector Machine  padronizado           97.66            98.24   \n",
       "Logistic Regression        original           95.91            94.22   \n",
       "Logistic Regression     padronizado           97.66            98.99   \n",
       "KNN                        original           94.74            93.97   \n",
       "KNN                     padronizado           95.91            96.98   \n",
       "Árvores de decisão         original           91.23           100.00   \n",
       "Árvores de decisão      padronizado           91.23           100.00   \n",
       "Random Forest              original           95.91           100.00   \n",
       "Random Forest           padronizado           95.91           100.00   \n",
       "Gradient Boosting          original           97.66           100.00   \n",
       "Gradient Boosting       padronizado           97.66           100.00   \n",
       "XGBoosting                 original           97.66           100.00   \n",
       "XGBoosting              padronizado           97.66           100.00   \n",
       "\n",
       "                        acuracia_cv  precision  recall  f1_score  \\\n",
       "modelo                                                             \n",
       "Naive Bayes                   93.83      92.43   92.40     92.41   \n",
       "Naive Bayes                   93.13      91.37   91.23     91.27   \n",
       "Support Vector Machine        91.58      92.92   92.40     92.22   \n",
       "Support Vector Machine        97.89      97.67   97.66     97.65   \n",
       "Logistic Regression           93.15      96.01   95.91     95.93   \n",
       "Logistic Regression           97.89      97.67   97.66     97.65   \n",
       "KNN                           92.98      94.76   94.74     94.75   \n",
       "KNN                           97.01      96.01   95.91     95.87   \n",
       "Árvores de decisão            92.08      91.71   91.23     91.31   \n",
       "Árvores de decisão            92.08      91.71   91.23     91.31   \n",
       "Random Forest                 96.31      95.93   95.91     95.91   \n",
       "Random Forest                 96.31      95.93   95.91     95.91   \n",
       "Gradient Boosting             96.66      97.66   97.66     97.66   \n",
       "Gradient Boosting             96.66      97.66   97.66     97.66   \n",
       "XGBoosting                    97.19      97.66   97.66     97.66   \n",
       "XGBoosting                    97.19      97.66   97.66     97.66   \n",
       "\n",
       "                             matriz_confusao  dif_acuracia_treino_teste  \n",
       "modelo                                                                   \n",
       "Naive Bayes              [[101, 7], [6, 57]]                       1.82  \n",
       "Naive Bayes               [[99, 9], [6, 57]]                       2.99  \n",
       "Support Vector Machine  [[107, 1], [12, 51]]                      -1.95  \n",
       "Support Vector Machine   [[107, 1], [3, 60]]                       0.58  \n",
       "Logistic Regression      [[103, 5], [2, 61]]                      -1.69  \n",
       "Logistic Regression      [[107, 1], [3, 60]]                       1.33  \n",
       "KNN                      [[103, 5], [4, 59]]                      -0.77  \n",
       "KNN                      [[107, 1], [6, 57]]                       1.07  \n",
       "Árvores de decisão       [[97, 11], [4, 59]]                       8.77  \n",
       "Árvores de decisão       [[97, 11], [4, 59]]                       8.77  \n",
       "Random Forest            [[104, 4], [3, 60]]                       4.09  \n",
       "Random Forest            [[104, 4], [3, 60]]                       4.09  \n",
       "Gradient Boosting        [[106, 2], [2, 61]]                       2.34  \n",
       "Gradient Boosting        [[106, 2], [2, 61]]                       2.34  \n",
       "XGBoosting               [[106, 2], [2, 61]]                       2.34  \n",
       "XGBoosting               [[106, 2], [2, 61]]                       2.34  "
      ]
     },
     "execution_count": 8,
     "metadata": {},
     "output_type": "execute_result"
    }
   ],
   "source": [
    "results.set_index('modelo')"
   ]
  },
  {
   "cell_type": "markdown",
   "id": "bc29447d",
   "metadata": {},
   "source": [
    "**top 3 by accuracy**"
   ]
  },
  {
   "cell_type": "code",
   "execution_count": 9,
   "id": "6709a46c",
   "metadata": {},
   "outputs": [
    {
     "data": {
      "text/html": [
       "<div>\n",
       "<style scoped>\n",
       "    .dataframe tbody tr th:only-of-type {\n",
       "        vertical-align: middle;\n",
       "    }\n",
       "\n",
       "    .dataframe tbody tr th {\n",
       "        vertical-align: top;\n",
       "    }\n",
       "\n",
       "    .dataframe thead th {\n",
       "        text-align: right;\n",
       "    }\n",
       "</style>\n",
       "<table border=\"1\" class=\"dataframe\">\n",
       "  <thead>\n",
       "    <tr style=\"text-align: right;\">\n",
       "      <th></th>\n",
       "      <th>modelo</th>\n",
       "      <th>previsores</th>\n",
       "      <th>acuracia_teste</th>\n",
       "      <th>acuracia_treino</th>\n",
       "      <th>acuracia_cv</th>\n",
       "      <th>precision</th>\n",
       "      <th>recall</th>\n",
       "      <th>f1_score</th>\n",
       "      <th>matriz_confusao</th>\n",
       "      <th>dif_acuracia_treino_teste</th>\n",
       "    </tr>\n",
       "  </thead>\n",
       "  <tbody>\n",
       "    <tr>\n",
       "      <th>3</th>\n",
       "      <td>Support Vector Machine</td>\n",
       "      <td>padronizado</td>\n",
       "      <td>97.66</td>\n",
       "      <td>98.24</td>\n",
       "      <td>97.89</td>\n",
       "      <td>97.67</td>\n",
       "      <td>97.66</td>\n",
       "      <td>97.65</td>\n",
       "      <td>[[107, 1], [3, 60]]</td>\n",
       "      <td>0.58</td>\n",
       "    </tr>\n",
       "    <tr>\n",
       "      <th>5</th>\n",
       "      <td>Logistic Regression</td>\n",
       "      <td>padronizado</td>\n",
       "      <td>97.66</td>\n",
       "      <td>98.99</td>\n",
       "      <td>97.89</td>\n",
       "      <td>97.67</td>\n",
       "      <td>97.66</td>\n",
       "      <td>97.65</td>\n",
       "      <td>[[107, 1], [3, 60]]</td>\n",
       "      <td>1.33</td>\n",
       "    </tr>\n",
       "    <tr>\n",
       "      <th>12</th>\n",
       "      <td>Gradient Boosting</td>\n",
       "      <td>original</td>\n",
       "      <td>97.66</td>\n",
       "      <td>100.00</td>\n",
       "      <td>96.66</td>\n",
       "      <td>97.66</td>\n",
       "      <td>97.66</td>\n",
       "      <td>97.66</td>\n",
       "      <td>[[106, 2], [2, 61]]</td>\n",
       "      <td>2.34</td>\n",
       "    </tr>\n",
       "  </tbody>\n",
       "</table>\n",
       "</div>"
      ],
      "text/plain": [
       "                    modelo   previsores  acuracia_teste  acuracia_treino  \\\n",
       "3   Support Vector Machine  padronizado           97.66            98.24   \n",
       "5      Logistic Regression  padronizado           97.66            98.99   \n",
       "12       Gradient Boosting     original           97.66           100.00   \n",
       "\n",
       "    acuracia_cv  precision  recall  f1_score      matriz_confusao  \\\n",
       "3         97.89      97.67   97.66     97.65  [[107, 1], [3, 60]]   \n",
       "5         97.89      97.67   97.66     97.65  [[107, 1], [3, 60]]   \n",
       "12        96.66      97.66   97.66     97.66  [[106, 2], [2, 61]]   \n",
       "\n",
       "    dif_acuracia_treino_teste  \n",
       "3                        0.58  \n",
       "5                        1.33  \n",
       "12                       2.34  "
      ]
     },
     "execution_count": 9,
     "metadata": {},
     "output_type": "execute_result"
    }
   ],
   "source": [
    "results.nlargest(3, 'acuracia_teste')"
   ]
  },
  {
   "cell_type": "markdown",
   "id": "63a09627",
   "metadata": {},
   "source": [
    "**top 3 cross validation accuracy**"
   ]
  },
  {
   "cell_type": "code",
   "execution_count": 10,
   "id": "3f6effb2",
   "metadata": {},
   "outputs": [
    {
     "data": {
      "text/html": [
       "<div>\n",
       "<style scoped>\n",
       "    .dataframe tbody tr th:only-of-type {\n",
       "        vertical-align: middle;\n",
       "    }\n",
       "\n",
       "    .dataframe tbody tr th {\n",
       "        vertical-align: top;\n",
       "    }\n",
       "\n",
       "    .dataframe thead th {\n",
       "        text-align: right;\n",
       "    }\n",
       "</style>\n",
       "<table border=\"1\" class=\"dataframe\">\n",
       "  <thead>\n",
       "    <tr style=\"text-align: right;\">\n",
       "      <th></th>\n",
       "      <th>modelo</th>\n",
       "      <th>previsores</th>\n",
       "      <th>acuracia_teste</th>\n",
       "      <th>acuracia_treino</th>\n",
       "      <th>acuracia_cv</th>\n",
       "      <th>precision</th>\n",
       "      <th>recall</th>\n",
       "      <th>f1_score</th>\n",
       "      <th>matriz_confusao</th>\n",
       "      <th>dif_acuracia_treino_teste</th>\n",
       "    </tr>\n",
       "  </thead>\n",
       "  <tbody>\n",
       "    <tr>\n",
       "      <th>3</th>\n",
       "      <td>Support Vector Machine</td>\n",
       "      <td>padronizado</td>\n",
       "      <td>97.66</td>\n",
       "      <td>98.24</td>\n",
       "      <td>97.89</td>\n",
       "      <td>97.67</td>\n",
       "      <td>97.66</td>\n",
       "      <td>97.65</td>\n",
       "      <td>[[107, 1], [3, 60]]</td>\n",
       "      <td>0.58</td>\n",
       "    </tr>\n",
       "    <tr>\n",
       "      <th>5</th>\n",
       "      <td>Logistic Regression</td>\n",
       "      <td>padronizado</td>\n",
       "      <td>97.66</td>\n",
       "      <td>98.99</td>\n",
       "      <td>97.89</td>\n",
       "      <td>97.67</td>\n",
       "      <td>97.66</td>\n",
       "      <td>97.65</td>\n",
       "      <td>[[107, 1], [3, 60]]</td>\n",
       "      <td>1.33</td>\n",
       "    </tr>\n",
       "    <tr>\n",
       "      <th>14</th>\n",
       "      <td>XGBoosting</td>\n",
       "      <td>original</td>\n",
       "      <td>97.66</td>\n",
       "      <td>100.00</td>\n",
       "      <td>97.19</td>\n",
       "      <td>97.66</td>\n",
       "      <td>97.66</td>\n",
       "      <td>97.66</td>\n",
       "      <td>[[106, 2], [2, 61]]</td>\n",
       "      <td>2.34</td>\n",
       "    </tr>\n",
       "  </tbody>\n",
       "</table>\n",
       "</div>"
      ],
      "text/plain": [
       "                    modelo   previsores  acuracia_teste  acuracia_treino  \\\n",
       "3   Support Vector Machine  padronizado           97.66            98.24   \n",
       "5      Logistic Regression  padronizado           97.66            98.99   \n",
       "14              XGBoosting     original           97.66           100.00   \n",
       "\n",
       "    acuracia_cv  precision  recall  f1_score      matriz_confusao  \\\n",
       "3         97.89      97.67   97.66     97.65  [[107, 1], [3, 60]]   \n",
       "5         97.89      97.67   97.66     97.65  [[107, 1], [3, 60]]   \n",
       "14        97.19      97.66   97.66     97.66  [[106, 2], [2, 61]]   \n",
       "\n",
       "    dif_acuracia_treino_teste  \n",
       "3                        0.58  \n",
       "5                        1.33  \n",
       "14                       2.34  "
      ]
     },
     "execution_count": 10,
     "metadata": {},
     "output_type": "execute_result"
    }
   ],
   "source": [
    "results.nlargest(3, 'acuracia_cv')"
   ]
  },
  {
   "cell_type": "markdown",
   "id": "0c093ad9",
   "metadata": {},
   "source": [
    "**top 3 f1 score**"
   ]
  },
  {
   "cell_type": "code",
   "execution_count": 11,
   "id": "ff33e349",
   "metadata": {},
   "outputs": [
    {
     "data": {
      "text/html": [
       "<div>\n",
       "<style scoped>\n",
       "    .dataframe tbody tr th:only-of-type {\n",
       "        vertical-align: middle;\n",
       "    }\n",
       "\n",
       "    .dataframe tbody tr th {\n",
       "        vertical-align: top;\n",
       "    }\n",
       "\n",
       "    .dataframe thead th {\n",
       "        text-align: right;\n",
       "    }\n",
       "</style>\n",
       "<table border=\"1\" class=\"dataframe\">\n",
       "  <thead>\n",
       "    <tr style=\"text-align: right;\">\n",
       "      <th></th>\n",
       "      <th>modelo</th>\n",
       "      <th>previsores</th>\n",
       "      <th>acuracia_teste</th>\n",
       "      <th>acuracia_treino</th>\n",
       "      <th>acuracia_cv</th>\n",
       "      <th>precision</th>\n",
       "      <th>recall</th>\n",
       "      <th>f1_score</th>\n",
       "      <th>matriz_confusao</th>\n",
       "      <th>dif_acuracia_treino_teste</th>\n",
       "    </tr>\n",
       "  </thead>\n",
       "  <tbody>\n",
       "    <tr>\n",
       "      <th>12</th>\n",
       "      <td>Gradient Boosting</td>\n",
       "      <td>original</td>\n",
       "      <td>97.66</td>\n",
       "      <td>100.0</td>\n",
       "      <td>96.66</td>\n",
       "      <td>97.66</td>\n",
       "      <td>97.66</td>\n",
       "      <td>97.66</td>\n",
       "      <td>[[106, 2], [2, 61]]</td>\n",
       "      <td>2.34</td>\n",
       "    </tr>\n",
       "    <tr>\n",
       "      <th>13</th>\n",
       "      <td>Gradient Boosting</td>\n",
       "      <td>padronizado</td>\n",
       "      <td>97.66</td>\n",
       "      <td>100.0</td>\n",
       "      <td>96.66</td>\n",
       "      <td>97.66</td>\n",
       "      <td>97.66</td>\n",
       "      <td>97.66</td>\n",
       "      <td>[[106, 2], [2, 61]]</td>\n",
       "      <td>2.34</td>\n",
       "    </tr>\n",
       "    <tr>\n",
       "      <th>14</th>\n",
       "      <td>XGBoosting</td>\n",
       "      <td>original</td>\n",
       "      <td>97.66</td>\n",
       "      <td>100.0</td>\n",
       "      <td>97.19</td>\n",
       "      <td>97.66</td>\n",
       "      <td>97.66</td>\n",
       "      <td>97.66</td>\n",
       "      <td>[[106, 2], [2, 61]]</td>\n",
       "      <td>2.34</td>\n",
       "    </tr>\n",
       "  </tbody>\n",
       "</table>\n",
       "</div>"
      ],
      "text/plain": [
       "               modelo   previsores  acuracia_teste  acuracia_treino  \\\n",
       "12  Gradient Boosting     original           97.66            100.0   \n",
       "13  Gradient Boosting  padronizado           97.66            100.0   \n",
       "14         XGBoosting     original           97.66            100.0   \n",
       "\n",
       "    acuracia_cv  precision  recall  f1_score      matriz_confusao  \\\n",
       "12        96.66      97.66   97.66     97.66  [[106, 2], [2, 61]]   \n",
       "13        96.66      97.66   97.66     97.66  [[106, 2], [2, 61]]   \n",
       "14        97.19      97.66   97.66     97.66  [[106, 2], [2, 61]]   \n",
       "\n",
       "    dif_acuracia_treino_teste  \n",
       "12                       2.34  \n",
       "13                       2.34  \n",
       "14                       2.34  "
      ]
     },
     "execution_count": 11,
     "metadata": {},
     "output_type": "execute_result"
    }
   ],
   "source": [
    "results.nlargest(3, 'f1_score')"
   ]
  },
  {
   "cell_type": "markdown",
   "id": "0ec305ae",
   "metadata": {},
   "source": [
    "## hiperparameters"
   ]
  },
  {
   "cell_type": "code",
   "execution_count": 12,
   "id": "11c6e8ef",
   "metadata": {},
   "outputs": [],
   "source": [
    "from sklearn.model_selection import GridSearchCV, train_test_split, cross_val_score, StratifiedKFold\n",
    "from sklearn.metrics import roc_auc_score, classification_report, accuracy_score, confusion_matrix\n",
    "\n",
    "import warnings\n",
    "warnings.filterwarnings('ignore')"
   ]
  },
  {
   "cell_type": "code",
   "execution_count": 13,
   "id": "715264a2",
   "metadata": {},
   "outputs": [],
   "source": [
    "# train test\n",
    "X_train, X_test, y_train, y_test = train_test_split(X, y, test_size=0.3, random_state=42)"
   ]
  },
  {
   "cell_type": "markdown",
   "id": "48369274",
   "metadata": {},
   "source": [
    "**1 - SVM**"
   ]
  },
  {
   "cell_type": "code",
   "execution_count": 14,
   "id": "a7c3a8a0",
   "metadata": {},
   "outputs": [],
   "source": [
    "from sklearn.svm import SVC"
   ]
  },
  {
   "cell_type": "code",
   "execution_count": 15,
   "id": "0c85588a",
   "metadata": {},
   "outputs": [],
   "source": [
    "svm = SVC(random_state=0)"
   ]
  },
  {
   "cell_type": "code",
   "execution_count": 16,
   "id": "3195f454",
   "metadata": {},
   "outputs": [],
   "source": [
    "param_grid_svm = {\n",
    "    'C': [0.1, 1, 10, 100],\n",
    "    'kernel': ['rbf', 'poly', 'sigmoid'],\n",
    "    'gamma': ['scale', 'auto', 0.1, 1],\n",
    "    'degree': [2, 3, 4]  \n",
    "}"
   ]
  },
  {
   "cell_type": "code",
   "execution_count": 18,
   "id": "d2eaced9",
   "metadata": {},
   "outputs": [
    {
     "name": "stdout",
     "output_type": "stream",
     "text": [
      "Melhores parâmetros: {'C': 1, 'degree': 2, 'gamma': 'scale', 'kernel': 'rbf'}\n",
      "Melhor pontuação:99.45%\n"
     ]
    }
   ],
   "source": [
    "grid_search_svm = GridSearchCV(svm, param_grid_svm, cv=5, scoring='roc_auc')\n",
    "grid_search_svm.fit(X_train, y_train)\n",
    "\n",
    "print(\"Melhores parâmetros:\", grid_search_svm.best_params_)\n",
    "print(\"Melhor pontuação:%.2f%%\" % (grid_search_svm.best_score_ * 100.0))"
   ]
  },
  {
   "cell_type": "code",
   "execution_count": 19,
   "id": "0ede1be8",
   "metadata": {},
   "outputs": [],
   "source": [
    "best_model_svm = grid_search_svm.best_estimator_\n",
    "y_pred_svm = best_model_svm.predict(X_test)"
   ]
  },
  {
   "cell_type": "code",
   "execution_count": 20,
   "id": "6a4edd57",
   "metadata": {},
   "outputs": [
    {
     "name": "stdout",
     "output_type": "stream",
     "text": [
      "              precision    recall  f1-score   support\n",
      "\n",
      "           0       0.98      0.97      0.98       108\n",
      "           1       0.95      0.97      0.96        63\n",
      "\n",
      "    accuracy                           0.97       171\n",
      "   macro avg       0.97      0.97      0.97       171\n",
      "weighted avg       0.97      0.97      0.97       171\n",
      "\n"
     ]
    }
   ],
   "source": [
    "print(classification_report(y_test, y_pred_svm))"
   ]
  },
  {
   "cell_type": "code",
   "execution_count": 21,
   "id": "08b7d2a5",
   "metadata": {},
   "outputs": [
    {
     "data": {
      "text/plain": [
       "0.9874371859296482"
      ]
     },
     "execution_count": 21,
     "metadata": {},
     "output_type": "execute_result"
    }
   ],
   "source": [
    "best_model_svm.score(X_train, y_train)"
   ]
  },
  {
   "cell_type": "code",
   "execution_count": 22,
   "id": "e2cb060f",
   "metadata": {},
   "outputs": [
    {
     "data": {
      "text/plain": [
       "0.9707602339181286"
      ]
     },
     "execution_count": 22,
     "metadata": {},
     "output_type": "execute_result"
    }
   ],
   "source": [
    "accuracy_score(y_test, y_pred_svm)"
   ]
  },
  {
   "cell_type": "code",
   "execution_count": 23,
   "id": "1f408f65",
   "metadata": {},
   "outputs": [
    {
     "data": {
      "text/plain": [
       "array([[105,   3],\n",
       "       [  2,  61]])"
      ]
     },
     "execution_count": 23,
     "metadata": {},
     "output_type": "execute_result"
    }
   ],
   "source": [
    "confusion_matrix(y_test, y_pred_svm)"
   ]
  },
  {
   "cell_type": "markdown",
   "id": "02e4233c",
   "metadata": {},
   "source": [
    "**2 - Log Regression**"
   ]
  },
  {
   "cell_type": "code",
   "execution_count": 24,
   "id": "e5d1aaa2",
   "metadata": {},
   "outputs": [],
   "source": [
    "from sklearn.linear_model import LogisticRegression"
   ]
  },
  {
   "cell_type": "code",
   "execution_count": 25,
   "id": "382841d0",
   "metadata": {},
   "outputs": [],
   "source": [
    "lr = LogisticRegression(random_state=0)"
   ]
  },
  {
   "cell_type": "code",
   "execution_count": 26,
   "id": "42c5725b",
   "metadata": {},
   "outputs": [],
   "source": [
    "param_grid_lr = {\n",
    "    'C': [0.001, 0.01, 0.1, 1, 10, 100],\n",
    "    'penalty': ['l1', 'l2', 'elasticnet'],\n",
    "    'solver': ['newton-cg', 'lbfgs', 'liblinear', 'sag', 'saga'],\n",
    "    'multi_class': ['ovr', 'multinomial']\n",
    "}"
   ]
  },
  {
   "cell_type": "code",
   "execution_count": 28,
   "id": "2f39ceca",
   "metadata": {},
   "outputs": [
    {
     "name": "stdout",
     "output_type": "stream",
     "text": [
      "Melhores parâmetros: {'C': 1, 'multi_class': 'ovr', 'penalty': 'l2', 'solver': 'sag'}\n",
      "Melhor pontuação:99.38%\n"
     ]
    }
   ],
   "source": [
    "grid_search_lr = GridSearchCV(lr, param_grid_lr, cv=5, scoring='roc_auc')\n",
    "grid_search_lr.fit(X_train, y_train)\n",
    "\n",
    "print(\"Melhores parâmetros:\", grid_search_lr.best_params_)\n",
    "print(\"Melhor pontuação:%.2f%%\" % (grid_search_lr.best_score_ * 100.0))"
   ]
  },
  {
   "cell_type": "code",
   "execution_count": 31,
   "id": "c2ebe4a1",
   "metadata": {},
   "outputs": [],
   "source": [
    "best_model_lr = grid_search_lr.best_estimator_\n",
    "y_pred_lr = best_model_lr.predict(X_test)"
   ]
  },
  {
   "cell_type": "code",
   "execution_count": 32,
   "id": "4b9e8370",
   "metadata": {},
   "outputs": [
    {
     "name": "stdout",
     "output_type": "stream",
     "text": [
      "              precision    recall  f1-score   support\n",
      "\n",
      "           0       0.99      0.99      0.99       108\n",
      "           1       0.98      0.98      0.98        63\n",
      "\n",
      "    accuracy                           0.99       171\n",
      "   macro avg       0.99      0.99      0.99       171\n",
      "weighted avg       0.99      0.99      0.99       171\n",
      "\n"
     ]
    }
   ],
   "source": [
    "print(classification_report(y_test, y_pred_lr))"
   ]
  },
  {
   "cell_type": "code",
   "execution_count": 34,
   "id": "8b4d4e87",
   "metadata": {},
   "outputs": [
    {
     "data": {
      "text/plain": [
       "0.9849246231155779"
      ]
     },
     "execution_count": 34,
     "metadata": {},
     "output_type": "execute_result"
    }
   ],
   "source": [
    "best_model_lr.score(X_train, y_train)"
   ]
  },
  {
   "cell_type": "code",
   "execution_count": 35,
   "id": "66ae739e",
   "metadata": {},
   "outputs": [
    {
     "data": {
      "text/plain": [
       "0.9883040935672515"
      ]
     },
     "execution_count": 35,
     "metadata": {},
     "output_type": "execute_result"
    }
   ],
   "source": [
    "accuracy_score(y_test, y_pred_lr)"
   ]
  },
  {
   "cell_type": "code",
   "execution_count": 36,
   "id": "64c28ac1",
   "metadata": {},
   "outputs": [
    {
     "data": {
      "text/plain": [
       "array([[107,   1],\n",
       "       [  1,  62]])"
      ]
     },
     "execution_count": 36,
     "metadata": {},
     "output_type": "execute_result"
    }
   ],
   "source": [
    "confusion_matrix(y_test, y_pred_lr)"
   ]
  },
  {
   "cell_type": "markdown",
   "id": "1e0aae8a",
   "metadata": {},
   "source": [
    "**3 - gradient boosting**"
   ]
  },
  {
   "cell_type": "code",
   "execution_count": 37,
   "id": "8d2d5500",
   "metadata": {},
   "outputs": [],
   "source": [
    "from sklearn.ensemble import GradientBoostingClassifier"
   ]
  },
  {
   "cell_type": "code",
   "execution_count": 38,
   "id": "72c84f20",
   "metadata": {},
   "outputs": [],
   "source": [
    "gb = GradientBoostingClassifier(random_state=0)"
   ]
  },
  {
   "cell_type": "code",
   "execution_count": 39,
   "id": "76fdfe5c",
   "metadata": {},
   "outputs": [],
   "source": [
    "param_grid_gb = {\n",
    "    'n_estimators': [100, 200, 300],\n",
    "    'learning_rate': [0.01, 0.05, 0.1],\n",
    "    'max_depth': [2, 3, 4],\n",
    "    'min_samples_split': [2, 4, 6],\n",
    "    'min_samples_leaf': [1, 2, 3]\n",
    "}"
   ]
  },
  {
   "cell_type": "code",
   "execution_count": 40,
   "id": "13f74517",
   "metadata": {
    "scrolled": false
   },
   "outputs": [
    {
     "name": "stdout",
     "output_type": "stream",
     "text": [
      "Melhores parâmetros: {'learning_rate': 0.05, 'max_depth': 3, 'min_samples_leaf': 3, 'min_samples_split': 2, 'n_estimators': 300}\n",
      "Melhor pontuação:99.04%\n"
     ]
    }
   ],
   "source": [
    "grid_search_gb = GridSearchCV(gb, param_grid_gb, cv=5, scoring='roc_auc')\n",
    "grid_search_gb.fit(X_train, y_train)\n",
    "\n",
    "print(\"Melhores parâmetros:\", grid_search_gb.best_params_)\n",
    "print(\"Melhor pontuação:%.2f%%\" % (grid_search_gb.best_score_ * 100.0))"
   ]
  },
  {
   "cell_type": "code",
   "execution_count": 43,
   "id": "aa1845a1",
   "metadata": {},
   "outputs": [],
   "source": [
    "best_model_gb = grid_search_gb.best_estimator_\n",
    "y_pred_gb = best_model_gb.predict(X_test)"
   ]
  },
  {
   "cell_type": "code",
   "execution_count": 44,
   "id": "e516d6d2",
   "metadata": {},
   "outputs": [
    {
     "name": "stdout",
     "output_type": "stream",
     "text": [
      "              precision    recall  f1-score   support\n",
      "\n",
      "           0       0.96      0.98      0.97       108\n",
      "           1       0.97      0.94      0.95        63\n",
      "\n",
      "    accuracy                           0.96       171\n",
      "   macro avg       0.97      0.96      0.96       171\n",
      "weighted avg       0.96      0.96      0.96       171\n",
      "\n"
     ]
    }
   ],
   "source": [
    "print(classification_report(y_test, y_pred_gb))"
   ]
  },
  {
   "cell_type": "code",
   "execution_count": 45,
   "id": "9a32a216",
   "metadata": {},
   "outputs": [
    {
     "data": {
      "text/plain": [
       "0.9649122807017544"
      ]
     },
     "execution_count": 45,
     "metadata": {},
     "output_type": "execute_result"
    }
   ],
   "source": [
    "accuracy_score(y_test, y_pred_gb)"
   ]
  },
  {
   "cell_type": "code",
   "execution_count": 46,
   "id": "1a5a7b1c",
   "metadata": {},
   "outputs": [
    {
     "data": {
      "text/plain": [
       "1.0"
      ]
     },
     "execution_count": 46,
     "metadata": {},
     "output_type": "execute_result"
    }
   ],
   "source": [
    "best_model_gb.score(X_train, y_train)"
   ]
  },
  {
   "cell_type": "code",
   "execution_count": 47,
   "id": "70adbebc",
   "metadata": {},
   "outputs": [
    {
     "data": {
      "text/plain": [
       "array([[106,   2],\n",
       "       [  4,  59]])"
      ]
     },
     "execution_count": 47,
     "metadata": {},
     "output_type": "execute_result"
    }
   ],
   "source": [
    "confusion_matrix(y_test, y_pred_gb)"
   ]
  },
  {
   "cell_type": "markdown",
   "id": "db24f6e4",
   "metadata": {},
   "source": [
    "## export"
   ]
  },
  {
   "cell_type": "code",
   "execution_count": 48,
   "id": "2a87db85",
   "metadata": {},
   "outputs": [],
   "source": [
    "import pickle"
   ]
  },
  {
   "cell_type": "code",
   "execution_count": 49,
   "id": "f24ea546",
   "metadata": {},
   "outputs": [],
   "source": [
    "with open('../data/modelo_logistica.pkl', 'wb') as f:\n",
    "    pickle.dump(best_model_lr, f)"
   ]
  }
 ],
 "metadata": {
  "kernelspec": {
   "display_name": "Python 3 (ipykernel)",
   "language": "python",
   "name": "python3"
  },
  "language_info": {
   "codemirror_mode": {
    "name": "ipython",
    "version": 3
   },
   "file_extension": ".py",
   "mimetype": "text/x-python",
   "name": "python",
   "nbconvert_exporter": "python",
   "pygments_lexer": "ipython3",
   "version": "3.11.5"
  }
 },
 "nbformat": 4,
 "nbformat_minor": 5
}
